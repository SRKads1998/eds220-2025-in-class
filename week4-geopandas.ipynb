{
 "cells": [
  {
   "cell_type": "code",
   "execution_count": null,
   "id": "80909d00",
   "metadata": {},
   "outputs": [],
   "source": []
  },
  {
   "cell_type": "markdown",
   "id": "3aa45d66",
   "metadata": {},
   "source": [
    "## Geopandas\n",
    "\n",
    "Geopandas is a Python Library that extends 'pandas' by adding support for geospatial data\n",
    "\n",
    "## Reproducible file paths"
   ]
  },
  {
   "cell_type": "code",
   "execution_count": 7,
   "id": "5ef332c4",
   "metadata": {},
   "outputs": [],
   "source": [
    "import os\n",
    "import pandas as pd\n",
    "import geopandas as gpd\n",
    "import matplotlib.pyplot as plt"
   ]
  },
  {
   "cell_type": "markdown",
   "id": "868172f8",
   "metadata": {},
   "source": [
    "to import data we first use 'os' to creae a reproducible file path:"
   ]
  },
  {
   "cell_type": "code",
   "execution_count": 38,
   "id": "b31aa35a",
   "metadata": {},
   "outputs": [],
   "source": [
    "fp = os.path.join('data', 'gbif_sus_scrofa_california', 'gbif_sus_scrofa_california.shp')\n",
    "fp\n",
    "ca_boundary = gpd.read_file(fp)"
   ]
  },
  {
   "cell_type": "code",
   "execution_count": 9,
   "id": "118942e2",
   "metadata": {},
   "outputs": [
    {
     "data": {
      "text/html": [
       "<div>\n",
       "<style scoped>\n",
       "    .dataframe tbody tr th:only-of-type {\n",
       "        vertical-align: middle;\n",
       "    }\n",
       "\n",
       "    .dataframe tbody tr th {\n",
       "        vertical-align: top;\n",
       "    }\n",
       "\n",
       "    .dataframe thead th {\n",
       "        text-align: right;\n",
       "    }\n",
       "</style>\n",
       "<table border=\"1\" class=\"dataframe\">\n",
       "  <thead>\n",
       "    <tr style=\"text-align: right;\">\n",
       "      <th></th>\n",
       "      <th>gbifID</th>\n",
       "      <th>species</th>\n",
       "      <th>state</th>\n",
       "      <th>individual</th>\n",
       "      <th>day</th>\n",
       "      <th>month</th>\n",
       "      <th>year</th>\n",
       "      <th>inst</th>\n",
       "      <th>collection</th>\n",
       "      <th>catalogNum</th>\n",
       "      <th>identified</th>\n",
       "      <th>geometry</th>\n",
       "    </tr>\n",
       "  </thead>\n",
       "  <tbody>\n",
       "    <tr>\n",
       "      <th>0</th>\n",
       "      <td>899953814</td>\n",
       "      <td>Sus scrofa</td>\n",
       "      <td>California</td>\n",
       "      <td>NaN</td>\n",
       "      <td>22.0</td>\n",
       "      <td>3.0</td>\n",
       "      <td>2014.0</td>\n",
       "      <td>iNaturalist</td>\n",
       "      <td>Observations</td>\n",
       "      <td>581956</td>\n",
       "      <td>edwardrooks</td>\n",
       "      <td>POINT (-121.53812 37.08846)</td>\n",
       "    </tr>\n",
       "    <tr>\n",
       "      <th>1</th>\n",
       "      <td>899951348</td>\n",
       "      <td>Sus scrofa</td>\n",
       "      <td>California</td>\n",
       "      <td>NaN</td>\n",
       "      <td>9.0</td>\n",
       "      <td>6.0</td>\n",
       "      <td>2007.0</td>\n",
       "      <td>iNaturalist</td>\n",
       "      <td>Observations</td>\n",
       "      <td>576047</td>\n",
       "      <td>Bruce Freeman</td>\n",
       "      <td>POINT (-120.54942 35.47354)</td>\n",
       "    </tr>\n",
       "    <tr>\n",
       "      <th>2</th>\n",
       "      <td>896560733</td>\n",
       "      <td>Sus scrofa</td>\n",
       "      <td>California</td>\n",
       "      <td>NaN</td>\n",
       "      <td>20.0</td>\n",
       "      <td>12.0</td>\n",
       "      <td>1937.0</td>\n",
       "      <td>MVZ</td>\n",
       "      <td>Hild</td>\n",
       "      <td>MVZ:Hild:195</td>\n",
       "      <td>Museum of Vertebrate Zoology, University of Ca...</td>\n",
       "      <td>POINT (-122.27063 37.87610)</td>\n",
       "    </tr>\n",
       "    <tr>\n",
       "      <th>3</th>\n",
       "      <td>896559958</td>\n",
       "      <td>Sus scrofa</td>\n",
       "      <td>California</td>\n",
       "      <td>NaN</td>\n",
       "      <td>1.0</td>\n",
       "      <td>4.0</td>\n",
       "      <td>1969.0</td>\n",
       "      <td>MVZ</td>\n",
       "      <td>Hild</td>\n",
       "      <td>MVZ:Hild:1213</td>\n",
       "      <td>Museum of Vertebrate Zoology, University of Ca...</td>\n",
       "      <td>POINT (-121.82297 38.44543)</td>\n",
       "    </tr>\n",
       "    <tr>\n",
       "      <th>4</th>\n",
       "      <td>896559722</td>\n",
       "      <td>Sus scrofa</td>\n",
       "      <td>California</td>\n",
       "      <td>NaN</td>\n",
       "      <td>1.0</td>\n",
       "      <td>1.0</td>\n",
       "      <td>1961.0</td>\n",
       "      <td>MVZ</td>\n",
       "      <td>Hild</td>\n",
       "      <td>MVZ:Hild:1004</td>\n",
       "      <td>Museum of Vertebrate Zoology, University of Ca...</td>\n",
       "      <td>POINT (-121.74559 38.54882)</td>\n",
       "    </tr>\n",
       "    <tr>\n",
       "      <th>...</th>\n",
       "      <td>...</td>\n",
       "      <td>...</td>\n",
       "      <td>...</td>\n",
       "      <td>...</td>\n",
       "      <td>...</td>\n",
       "      <td>...</td>\n",
       "      <td>...</td>\n",
       "      <td>...</td>\n",
       "      <td>...</td>\n",
       "      <td>...</td>\n",
       "      <td>...</td>\n",
       "      <td>...</td>\n",
       "    </tr>\n",
       "    <tr>\n",
       "      <th>1041</th>\n",
       "      <td>1024216143</td>\n",
       "      <td>Sus scrofa</td>\n",
       "      <td>California</td>\n",
       "      <td>NaN</td>\n",
       "      <td>24.0</td>\n",
       "      <td>8.0</td>\n",
       "      <td>2014.0</td>\n",
       "      <td>iNaturalist</td>\n",
       "      <td>Observations</td>\n",
       "      <td>848609</td>\n",
       "      <td>sea-kangaroo</td>\n",
       "      <td>POINT (-121.71341 37.34271)</td>\n",
       "    </tr>\n",
       "    <tr>\n",
       "      <th>1042</th>\n",
       "      <td>1024215805</td>\n",
       "      <td>Sus scrofa</td>\n",
       "      <td>California</td>\n",
       "      <td>NaN</td>\n",
       "      <td>24.0</td>\n",
       "      <td>8.0</td>\n",
       "      <td>2014.0</td>\n",
       "      <td>iNaturalist</td>\n",
       "      <td>Observations</td>\n",
       "      <td>847708</td>\n",
       "      <td>Donna Pomeroy</td>\n",
       "      <td>POINT (-121.71871 37.34467)</td>\n",
       "    </tr>\n",
       "    <tr>\n",
       "      <th>1043</th>\n",
       "      <td>1024215159</td>\n",
       "      <td>Sus scrofa</td>\n",
       "      <td>California</td>\n",
       "      <td>NaN</td>\n",
       "      <td>23.0</td>\n",
       "      <td>8.0</td>\n",
       "      <td>2014.0</td>\n",
       "      <td>iNaturalist</td>\n",
       "      <td>Observations</td>\n",
       "      <td>845949</td>\n",
       "      <td>Alyssa Semerdjian</td>\n",
       "      <td>POINT (-120.18419 35.39745)</td>\n",
       "    </tr>\n",
       "    <tr>\n",
       "      <th>1044</th>\n",
       "      <td>1019052419</td>\n",
       "      <td>Sus scrofa</td>\n",
       "      <td>California</td>\n",
       "      <td>2.0</td>\n",
       "      <td>18.0</td>\n",
       "      <td>9.0</td>\n",
       "      <td>1998.0</td>\n",
       "      <td>Borror Laboratory of Bioacoustics, Ohio State ...</td>\n",
       "      <td>Recordings</td>\n",
       "      <td>BLB30714</td>\n",
       "      <td>None</td>\n",
       "      <td>POINT (-119.55190 34.04810)</td>\n",
       "    </tr>\n",
       "    <tr>\n",
       "      <th>1045</th>\n",
       "      <td>1019052401</td>\n",
       "      <td>Sus scrofa</td>\n",
       "      <td>California</td>\n",
       "      <td>2.0</td>\n",
       "      <td>18.0</td>\n",
       "      <td>9.0</td>\n",
       "      <td>1998.0</td>\n",
       "      <td>Borror Laboratory of Bioacoustics, Ohio State ...</td>\n",
       "      <td>Recordings</td>\n",
       "      <td>BLB30713</td>\n",
       "      <td>None</td>\n",
       "      <td>POINT (-119.55190 34.04810)</td>\n",
       "    </tr>\n",
       "  </tbody>\n",
       "</table>\n",
       "<p>1046 rows × 12 columns</p>\n",
       "</div>"
      ],
      "text/plain": [
       "          gbifID     species       state  individual   day  month    year  \\\n",
       "0      899953814  Sus scrofa  California         NaN  22.0    3.0  2014.0   \n",
       "1      899951348  Sus scrofa  California         NaN   9.0    6.0  2007.0   \n",
       "2      896560733  Sus scrofa  California         NaN  20.0   12.0  1937.0   \n",
       "3      896559958  Sus scrofa  California         NaN   1.0    4.0  1969.0   \n",
       "4      896559722  Sus scrofa  California         NaN   1.0    1.0  1961.0   \n",
       "...          ...         ...         ...         ...   ...    ...     ...   \n",
       "1041  1024216143  Sus scrofa  California         NaN  24.0    8.0  2014.0   \n",
       "1042  1024215805  Sus scrofa  California         NaN  24.0    8.0  2014.0   \n",
       "1043  1024215159  Sus scrofa  California         NaN  23.0    8.0  2014.0   \n",
       "1044  1019052419  Sus scrofa  California         2.0  18.0    9.0  1998.0   \n",
       "1045  1019052401  Sus scrofa  California         2.0  18.0    9.0  1998.0   \n",
       "\n",
       "                                                   inst    collection  \\\n",
       "0                                           iNaturalist  Observations   \n",
       "1                                           iNaturalist  Observations   \n",
       "2                                                   MVZ          Hild   \n",
       "3                                                   MVZ          Hild   \n",
       "4                                                   MVZ          Hild   \n",
       "...                                                 ...           ...   \n",
       "1041                                        iNaturalist  Observations   \n",
       "1042                                        iNaturalist  Observations   \n",
       "1043                                        iNaturalist  Observations   \n",
       "1044  Borror Laboratory of Bioacoustics, Ohio State ...    Recordings   \n",
       "1045  Borror Laboratory of Bioacoustics, Ohio State ...    Recordings   \n",
       "\n",
       "         catalogNum                                         identified  \\\n",
       "0            581956                                        edwardrooks   \n",
       "1            576047                                      Bruce Freeman   \n",
       "2      MVZ:Hild:195  Museum of Vertebrate Zoology, University of Ca...   \n",
       "3     MVZ:Hild:1213  Museum of Vertebrate Zoology, University of Ca...   \n",
       "4     MVZ:Hild:1004  Museum of Vertebrate Zoology, University of Ca...   \n",
       "...             ...                                                ...   \n",
       "1041         848609                                       sea-kangaroo   \n",
       "1042         847708                                      Donna Pomeroy   \n",
       "1043         845949                                  Alyssa Semerdjian   \n",
       "1044       BLB30714                                               None   \n",
       "1045       BLB30713                                               None   \n",
       "\n",
       "                         geometry  \n",
       "0     POINT (-121.53812 37.08846)  \n",
       "1     POINT (-120.54942 35.47354)  \n",
       "2     POINT (-122.27063 37.87610)  \n",
       "3     POINT (-121.82297 38.44543)  \n",
       "4     POINT (-121.74559 38.54882)  \n",
       "...                           ...  \n",
       "1041  POINT (-121.71341 37.34271)  \n",
       "1042  POINT (-121.71871 37.34467)  \n",
       "1043  POINT (-120.18419 35.39745)  \n",
       "1044  POINT (-119.55190 34.04810)  \n",
       "1045  POINT (-119.55190 34.04810)  \n",
       "\n",
       "[1046 rows x 12 columns]"
      ]
     },
     "execution_count": 9,
     "metadata": {},
     "output_type": "execute_result"
    }
   ],
   "source": [
    "pigs = gpd.read_file(fp)\n",
    "pigs"
   ]
  },
  {
   "cell_type": "code",
   "execution_count": 10,
   "id": "beec1716",
   "metadata": {},
   "outputs": [
    {
     "data": {
      "text/html": [
       "<div>\n",
       "<style scoped>\n",
       "    .dataframe tbody tr th:only-of-type {\n",
       "        vertical-align: middle;\n",
       "    }\n",
       "\n",
       "    .dataframe tbody tr th {\n",
       "        vertical-align: top;\n",
       "    }\n",
       "\n",
       "    .dataframe thead th {\n",
       "        text-align: right;\n",
       "    }\n",
       "</style>\n",
       "<table border=\"1\" class=\"dataframe\">\n",
       "  <thead>\n",
       "    <tr style=\"text-align: right;\">\n",
       "      <th></th>\n",
       "      <th>gbifID</th>\n",
       "      <th>species</th>\n",
       "      <th>state</th>\n",
       "      <th>individual</th>\n",
       "      <th>day</th>\n",
       "      <th>month</th>\n",
       "      <th>year</th>\n",
       "      <th>inst</th>\n",
       "      <th>collection</th>\n",
       "      <th>catalogNum</th>\n",
       "      <th>identified</th>\n",
       "      <th>geometry</th>\n",
       "    </tr>\n",
       "  </thead>\n",
       "  <tbody>\n",
       "    <tr>\n",
       "      <th>0</th>\n",
       "      <td>899953814</td>\n",
       "      <td>Sus scrofa</td>\n",
       "      <td>California</td>\n",
       "      <td>NaN</td>\n",
       "      <td>22.0</td>\n",
       "      <td>3.0</td>\n",
       "      <td>2014.0</td>\n",
       "      <td>iNaturalist</td>\n",
       "      <td>Observations</td>\n",
       "      <td>581956</td>\n",
       "      <td>edwardrooks</td>\n",
       "      <td>POINT (-121.53812 37.08846)</td>\n",
       "    </tr>\n",
       "    <tr>\n",
       "      <th>1</th>\n",
       "      <td>899951348</td>\n",
       "      <td>Sus scrofa</td>\n",
       "      <td>California</td>\n",
       "      <td>NaN</td>\n",
       "      <td>9.0</td>\n",
       "      <td>6.0</td>\n",
       "      <td>2007.0</td>\n",
       "      <td>iNaturalist</td>\n",
       "      <td>Observations</td>\n",
       "      <td>576047</td>\n",
       "      <td>Bruce Freeman</td>\n",
       "      <td>POINT (-120.54942 35.47354)</td>\n",
       "    </tr>\n",
       "    <tr>\n",
       "      <th>2</th>\n",
       "      <td>896560733</td>\n",
       "      <td>Sus scrofa</td>\n",
       "      <td>California</td>\n",
       "      <td>NaN</td>\n",
       "      <td>20.0</td>\n",
       "      <td>12.0</td>\n",
       "      <td>1937.0</td>\n",
       "      <td>MVZ</td>\n",
       "      <td>Hild</td>\n",
       "      <td>MVZ:Hild:195</td>\n",
       "      <td>Museum of Vertebrate Zoology, University of Ca...</td>\n",
       "      <td>POINT (-122.27063 37.87610)</td>\n",
       "    </tr>\n",
       "  </tbody>\n",
       "</table>\n",
       "</div>"
      ],
      "text/plain": [
       "      gbifID     species       state  individual   day  month    year  \\\n",
       "0  899953814  Sus scrofa  California         NaN  22.0    3.0  2014.0   \n",
       "1  899951348  Sus scrofa  California         NaN   9.0    6.0  2007.0   \n",
       "2  896560733  Sus scrofa  California         NaN  20.0   12.0  1937.0   \n",
       "\n",
       "          inst    collection    catalogNum  \\\n",
       "0  iNaturalist  Observations        581956   \n",
       "1  iNaturalist  Observations        576047   \n",
       "2          MVZ          Hild  MVZ:Hild:195   \n",
       "\n",
       "                                          identified  \\\n",
       "0                                        edwardrooks   \n",
       "1                                      Bruce Freeman   \n",
       "2  Museum of Vertebrate Zoology, University of Ca...   \n",
       "\n",
       "                      geometry  \n",
       "0  POINT (-121.53812 37.08846)  \n",
       "1  POINT (-120.54942 35.47354)  \n",
       "2  POINT (-122.27063 37.87610)  "
      ]
     },
     "execution_count": 10,
     "metadata": {},
     "output_type": "execute_result"
    }
   ],
   "source": [
    "pigs.head(3)"
   ]
  },
  {
   "cell_type": "code",
   "execution_count": 11,
   "id": "50a85c4a",
   "metadata": {},
   "outputs": [
    {
     "name": "stdout",
     "output_type": "stream",
     "text": [
      "<class 'geopandas.geodataframe.GeoDataFrame'>\n",
      "<class 'geopandas.geoseries.GeoSeries'>\n",
      "<class 'geopandas.geodataframe.GeoDataFrame'>\n"
     ]
    }
   ],
   "source": [
    "# check the data type of the pigs\n",
    "print(type(pigs))\n",
    "\n",
    "# check the data type of geom column\n",
    "print(type(pigs.geometry))\n",
    "\n",
    "# check the data type of the gbifID col\n",
    "print(type(pigs))"
   ]
  },
  {
   "cell_type": "code",
   "execution_count": 12,
   "id": "ade01aa1",
   "metadata": {},
   "outputs": [
    {
     "data": {
      "text/plain": [
       "0       Point\n",
       "1       Point\n",
       "2       Point\n",
       "3       Point\n",
       "4       Point\n",
       "        ...  \n",
       "1041    Point\n",
       "1042    Point\n",
       "1043    Point\n",
       "1044    Point\n",
       "1045    Point\n",
       "Length: 1046, dtype: object"
      ]
     },
     "execution_count": 12,
     "metadata": {},
     "output_type": "execute_result"
    }
   ],
   "source": [
    "# check type of each element in the geometry column\n",
    "pigs.geom_type"
   ]
  },
  {
   "cell_type": "markdown",
   "id": "400da0e4",
   "metadata": {},
   "source": [
    "what si the geometery type of the single feature in teh CA state boundary?"
   ]
  },
  {
   "cell_type": "code",
   "execution_count": 29,
   "id": "bc16acdb",
   "metadata": {},
   "outputs": [
    {
     "data": {
      "text/plain": [
       "0       Point\n",
       "1       Point\n",
       "2       Point\n",
       "3       Point\n",
       "4       Point\n",
       "        ...  \n",
       "1041    Point\n",
       "1042    Point\n",
       "1043    Point\n",
       "1044    Point\n",
       "1045    Point\n",
       "Length: 1046, dtype: object"
      ]
     },
     "execution_count": 29,
     "metadata": {},
     "output_type": "execute_result"
    }
   ],
   "source": [
    "ca_boundary.geom_type"
   ]
  },
  {
   "cell_type": "markdown",
   "id": "94d70bb1",
   "metadata": {},
   "source": [
    "## CRS\n",
    "\n",
    "*Coordinate Reference System* = instructions to locate each spatial feature of our data frame on the surface of the Earth. "
   ]
  },
  {
   "cell_type": "code",
   "execution_count": 14,
   "id": "33286b09",
   "metadata": {},
   "outputs": [
    {
     "data": {
      "text/plain": [
       "<Geographic 2D CRS: EPSG:4326>\n",
       "Name: WGS 84\n",
       "Axis Info [ellipsoidal]:\n",
       "- Lat[north]: Geodetic latitude (degree)\n",
       "- Lon[east]: Geodetic longitude (degree)\n",
       "Area of Use:\n",
       "- name: World.\n",
       "- bounds: (-180.0, -90.0, 180.0, 90.0)\n",
       "Datum: World Geodetic System 1984 ensemble\n",
       "- Ellipsoid: WGS 84\n",
       "- Prime Meridian: Greenwich"
      ]
     },
     "execution_count": 14,
     "metadata": {},
     "output_type": "execute_result"
    }
   ],
   "source": [
    "# access the crs of the geodataframe\n",
    "pigs.crs"
   ]
  },
  {
   "cell_type": "code",
   "execution_count": 15,
   "id": "bce0ab80",
   "metadata": {},
   "outputs": [
    {
     "name": "stdout",
     "output_type": "stream",
     "text": [
      "Ellipsoid: WGS 84\n",
      "Datum: World Geodetic System 1984 ensemble\n",
      "Is geographic?: True\n",
      "Is projected?: False\n"
     ]
    }
   ],
   "source": [
    "# examine CRS details\n",
    "print('Ellipsoid:', pigs.crs.ellipsoid)\n",
    "print('Datum:', pigs.crs.datum)\n",
    "print('Is geographic?:', pigs.crs.is_geographic)\n",
    "print('Is projected?:', pigs.crs.is_projected)"
   ]
  },
  {
   "cell_type": "code",
   "execution_count": 16,
   "id": "f9041f43",
   "metadata": {},
   "outputs": [
    {
     "data": {
      "text/plain": [
       "array([-124.29448 ,   32.593433, -115.4356  ,   40.934296])"
      ]
     },
     "execution_count": 16,
     "metadata": {},
     "output_type": "execute_result"
    }
   ],
   "source": [
    "# obtain the geographic extent of the the geo-dataframe\n",
    "pigs.total_bounds"
   ]
  },
  {
   "cell_type": "code",
   "execution_count": 17,
   "id": "f55574c8",
   "metadata": {},
   "outputs": [
    {
     "name": "stdout",
     "output_type": "stream",
     "text": [
      "CRS:  EPSG:4326 \n",
      "\n",
      "[-124.29448    32.593433 -115.4356     40.934296]\n"
     ]
    }
   ],
   "source": [
    "# Examine CRS and extent of CA boundary\n",
    "print('CRS: ', ca_boundary.crs, '\\n')\n",
    "print(ca_boundary.total_bounds)"
   ]
  },
  {
   "cell_type": "code",
   "execution_count": 18,
   "id": "a5ddedee",
   "metadata": {},
   "outputs": [
    {
     "data": {
      "text/plain": [
       "True"
      ]
     },
     "execution_count": 18,
     "metadata": {},
     "output_type": "execute_result"
    }
   ],
   "source": [
    "pigs.crs == ca_boundary.crs"
   ]
  },
  {
   "cell_type": "markdown",
   "id": "d74bd5f8",
   "metadata": {},
   "source": [
    "#### Data Wranglin\n",
    "you can use all your 'pandas' data wrangling to wrangle 'geopandas.geodataframes'\n"
   ]
  },
  {
   "cell_type": "markdown",
   "id": "8e42819f",
   "metadata": {},
   "source": [
    "## Example"
   ]
  },
  {
   "cell_type": "markdown",
   "id": "91eb5568",
   "metadata": {},
   "source": [
    "### Exampline pig observations by year"
   ]
  },
  {
   "cell_type": "code",
   "execution_count": 19,
   "id": "2e3bb62f",
   "metadata": {},
   "outputs": [
    {
     "data": {
      "text/plain": [
       "year\n",
       "1818.0     31\n",
       "1910.0      1\n",
       "1925.0      1\n",
       "1927.0      4\n",
       "1929.0      3\n",
       "         ... \n",
       "2019.0    101\n",
       "2020.0    159\n",
       "2021.0    164\n",
       "2022.0    185\n",
       "2023.0     98\n",
       "Name: count, Length: 61, dtype: int64"
      ]
     },
     "execution_count": 19,
     "metadata": {},
     "output_type": "execute_result"
    }
   ],
   "source": [
    "pigs['year'].value_counts().sort_index()"
   ]
  },
  {
   "cell_type": "code",
   "execution_count": 20,
   "id": "3d9379c4",
   "metadata": {},
   "outputs": [
    {
     "name": "stdout",
     "output_type": "stream",
     "text": [
      "Total number of observations: 1046\n",
      "Number of observations since 2020:  606\n"
     ]
    }
   ],
   "source": [
    "# select data from 2020 onwards\n",
    "pigs_recent = pigs[pigs['year'] >=2020]\n",
    "\n",
    "# check length of og dataframe\n",
    "print('Total number of observations:', len(pigs))\n",
    "\n",
    "# Check length of new dataframe\n",
    "print('Number of observations since 2020: ', len(pigs_recent))"
   ]
  },
  {
   "cell_type": "markdown",
   "id": "340d2b2c",
   "metadata": {},
   "source": [
    "### make a map\n",
    "\n",
    "'gpd.geodataframe' has a 'plot()' method that quickly creaes a map for our data using the geospatial information."
   ]
  },
  {
   "cell_type": "code",
   "execution_count": 21,
   "id": "6844ffc8",
   "metadata": {},
   "outputs": [
    {
     "data": {
      "text/plain": [
       "<Axes: >"
      ]
     },
     "execution_count": 21,
     "metadata": {},
     "output_type": "execute_result"
    },
    {
     "data": {
      "image/png": "[encoded data removed]",
      "text/plain": [
       "<Figure size 640x480 with 1 Axes>"
      ]
     },
     "metadata": {},
     "output_type": "display_data"
    }
   ],
   "source": [
    "# Create a map\n",
    "\n",
    "pigs_recent.plot()"
   ]
  },
  {
   "cell_type": "markdown",
   "id": "58fe2b24",
   "metadata": {},
   "source": [
    "## 'matplotlib' \n",
    "\n",
    "we can interact with 'matplotlib' via its 'pyplot' interface. \n",
    "Matplotlib graphs the data in someting called a **figure** which may have one or more **axes**. Th eaexs is *only* the area specieifed by the the x axis and the y axis what is plotted in it. A figure can include mulitple axes in it. \n",
    "To create a blank figure: "
   ]
  },
  {
   "cell_type": "code",
   "execution_count": 22,
   "id": "dda0d4dc",
   "metadata": {},
   "outputs": [
    {
     "data": {
      "image/png": "[encoded data removed]",
      "text/plain": [
       "<Figure size 640x480 with 1 Axes>"
      ]
     },
     "metadata": {},
     "output_type": "display_data"
    }
   ],
   "source": [
    "# Initialize empty figure (fig) and axis (ax)\n",
    "fig, ax = plt.subplots()\n",
    "# Display figure\n",
    "plt.show()"
   ]
  },
  {
   "cell_type": "markdown",
   "id": "8090283d",
   "metadata": {},
   "source": [
    "### Adding a layer\n",
    "Whe nusing 'matplotlib\" it can be useful to think of creating a pot as adding layeres on an axis.\n",
    "\n",
    "Example:\n",
    "\n",
    "The first layer we want to add to our axis is the 'pigs-recent' point data"
   ]
  },
  {
   "cell_type": "code",
   "execution_count": 23,
   "id": "bce3d3a4",
   "metadata": {},
   "outputs": [
    {
     "data": {
      "text/plain": [
       "<function matplotlib.pyplot.show(close=None, block=None)>"
      ]
     },
     "execution_count": 23,
     "metadata": {},
     "output_type": "execute_result"
    },
    {
     "data": {
      "image/png": "[encoded data removed]",
      "text/plain": [
       "<Figure size 640x480 with 1 Axes>"
      ]
     },
     "metadata": {},
     "output_type": "display_data"
    }
   ],
   "source": [
    "# Initialize empty figure and axis\n",
    "fig, ax = plt.subplots()\n",
    "\n",
    "# add data to axxis \n",
    "pigs_recent.plot(ax=ax)\n",
    "\n",
    "plt.show"
   ]
  },
  {
   "cell_type": "markdown",
   "id": "656261f3",
   "metadata": {},
   "source": [
    "## Customization \n",
    "\n",
    "Some cusotminazation can be done directly in 'plot()' method for the dataframe. Some other is done by updating attribute fo the ax"
   ]
  },
  {
   "cell_type": "code",
   "execution_count": null,
   "id": "2380f792",
   "metadata": {},
   "outputs": [
    {
     "data": {
      "text/plain": [
       "<function matplotlib.pyplot.show(close=None, block=None)>"
      ]
     },
     "execution_count": 37,
     "metadata": {},
     "output_type": "execute_result"
    },
    {
     "data": {
      "image/png": "[encoded data removed]",
      "text/plain": [
       "<Figure size 640x480 with 1 Axes>"
      ]
     },
     "metadata": {},
     "output_type": "display_data"
    }
   ],
   "source": [
    "# Initialize empty figure and axis\n",
    "fig, ax = plt.subplots()\n",
    "\n",
    "# add CA boundary\n",
    "ca_boundary.plot(ax=ax,\n",
    "                )\n",
    "\n",
    "# add data to axxis \n",
    "pigs_recent.plot(ax=ax, #add plot to axis\n",
    "                alpha = 0.5, # adjust transparency\n",
    "                color= 'brown', #Change color\n",
    "                edgecolor='yellow') # change color               \n",
    "\n",
    "# update axis\n",
    "ca_boundary\n",
    "ax.set_title('Reported \"sus Scrofa\" sightings in CA')\n",
    "ax.set_xlabel('longitude')\n",
    "ax.set_ylabel('latitude')\n",
    "            \n",
    "\n",
    "plt.show"
   ]
  }
 ],
 "metadata": {
  "kernelspec": {
   "display_name": "eds220-env",
   "language": "python",
   "name": "python3"
  },
  "language_info": {
   "codemirror_mode": {
    "name": "ipython",
    "version": 3
   },
   "file_extension": ".py",
   "mimetype": "text/x-python",
   "name": "python",
   "nbconvert_exporter": "python",
   "pygments_lexer": "ipython3",
   "version": "3.11.4"
  }
 },
 "nbformat": 4,
 "nbformat_minor": 5
}
