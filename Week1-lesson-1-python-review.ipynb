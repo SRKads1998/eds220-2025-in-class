{
 "cells": [
  {
   "cell_type": "markdown",
   "id": "c436525f-387b-409d-9b25-7e68c77cdc18",
   "metadata": {},
   "source": [
    "## Python Reviewwwwww\n",
    "\n",
    "Goals: \n",
    "- recall basic Pytohon vocab\n",
    "- practice markdown\n",
    "\n",
    "#### Libarries and packages\n",
    "**Library** a scollection of code that we can use to perofm specific tasks in our porgrams. \n",
    "\n",
    "**NumPy**\n",
    "- core library for numerical computing in python \n",
    "- many other libarire use NumPy arrays as building blocks\n",
    "- computations on NumPy are optiomozied for speed and memory usage\n",
    "\n",
    "Lets import NumPy with Stadnard abreviations"
   ]
  },
  {
   "cell_type": "code",
   "execution_count": 1,
   "id": "02aae00a-5dfb-4253-aea2-36db0d081920",
   "metadata": {
    "tags": []
   },
   "outputs": [],
   "source": [
    "import numpy as np"
   ]
  },
  {
   "cell_type": "markdown",
   "id": "db502468-0880-46b6-a6e1-f6667d945f6d",
   "metadata": {},
   "source": [
    "## Variables \n",
    "\n",
    "**variables**: a name we assign to a particular object in Python \n",
    "\n",
    "Example: "
   ]
  },
  {
   "cell_type": "code",
   "execution_count": 2,
   "id": "8e209313-a887-41f0-95c6-1bd9bbe07645",
   "metadata": {
    "tags": []
   },
   "outputs": [],
   "source": [
    "# Assign a small array to a variable a \n",
    "a = np.array([[1,1,2],[3,5,8]])"
   ]
  },
  {
   "cell_type": "code",
   "execution_count": 3,
   "id": "9f622dfc-a48f-42c3-b9b9-82648214f7bb",
   "metadata": {
    "tags": []
   },
   "outputs": [
    {
     "data": {
      "text/plain": [
       "array([[1, 1, 2],\n",
       "       [3, 5, 8]])"
      ]
     },
     "execution_count": 3,
     "metadata": {},
     "output_type": "execute_result"
    }
   ],
   "source": [
    "#run cell with the variable name to show the value\n",
    "a"
   ]
  },
  {
   "cell_type": "code",
   "execution_count": 4,
   "id": "cd6d2ff8-d0fa-497b-a650-ac1170fd0a66",
   "metadata": {
    "tags": []
   },
   "outputs": [
    {
     "name": "stdout",
     "output_type": "stream",
     "text": [
      "[[1 1 2]\n",
      " [3 5 8]]\n"
     ]
    }
   ],
   "source": [
    "# Use 'print' function ot print the value \n",
    "print(a)"
   ]
  },
  {
   "cell_type": "markdown",
   "id": "3f784310-97b6-4cf4-a37b-a20a65c74248",
   "metadata": {},
   "source": [
    "### Objects\n",
    "**object** (inofrmatlly speaking) is a bundle of *properites* and *actions* about sometihing speicifc.\n",
    "\n",
    "Example:\n",
    "\n",
    "Object: data frame \n",
    "\n",
    "Preperties: number rows, names of the columns, date created\n",
    "\n",
    "Actions: selecting a specific row, adding a new column\n",
    "\n",
    "A variable is the name w e give a specific object, and the same object can be reference by different variables. \n",
    "\n",
    "In practice, we can often use vairable and object interchangeably. \n",
    "\n",
    "## Types\n",
    "\n",
    "Every object in Python has a **type**. the type tells us what kind of object it is. \n",
    "We can also call the type of an object, the **class** of an object and they both mean what kind of object we have. "
   ]
  },
  {
   "cell_type": "code",
   "execution_count": 6,
   "id": "ae224d86-883d-4483-86ca-c8d4d185928c",
   "metadata": {
    "tags": []
   },
   "outputs": [
    {
     "name": "stdout",
     "output_type": "stream",
     "text": [
      "[[1 1 2]\n",
      " [3 5 8]]\n"
     ]
    },
    {
     "data": {
      "text/plain": [
       "numpy.ndarray"
      ]
     },
     "execution_count": 6,
     "metadata": {},
     "output_type": "execute_result"
    }
   ],
   "source": [
    "print(a)\n",
    "\n",
    "# check the type/class of a variable/object by using 'type' fucntion\n",
    "type(a)"
   ]
  },
  {
   "cell_type": "code",
   "execution_count": 7,
   "id": "240a584a-f8bc-4c88-8910-5b8c657ec187",
   "metadata": {
    "tags": []
   },
   "outputs": [
    {
     "name": "stdout",
     "output_type": "stream",
     "text": [
      "1\n"
     ]
    },
    {
     "data": {
      "text/plain": [
       "numpy.int64"
      ]
     },
     "execution_count": 7,
     "metadata": {},
     "output_type": "execute_result"
    }
   ],
   "source": [
    "print(a[0,0])\n",
    "\n",
    "# check the type on an entry on the array by indexing \n",
    "type(a[0,0])"
   ]
  },
  {
   "cell_type": "markdown",
   "id": "7cad1ebd-17ba-4a98-8ee1-1140f1cf4c1f",
   "metadata": {},
   "source": [
    "Notice that 'type(a[0,0])' is *'numpy.int64'* and not just the standard Python integer type. This is telling us that 1 is an interger stored as a 64-bit number. "
   ]
  },
  {
   "cell_type": "code",
   "execution_count": 8,
   "id": "01c43ebd-7a63-41e9-97ad-9f96a7ce0e5d",
   "metadata": {
    "tags": []
   },
   "outputs": [
    {
     "data": {
      "text/plain": [
       "5"
      ]
     },
     "execution_count": 8,
     "metadata": {},
     "output_type": "execute_result"
    }
   ],
   "source": [
    "a[1,1]"
   ]
  },
  {
   "cell_type": "markdown",
   "id": "d544e1ed-6d7d-411b-abfa-6c3443b07de8",
   "metadata": {},
   "source": [
    "### Functions\n",
    "\n",
    "'print' was our first example of a *function*\n",
    "\n",
    "Functions take in a set of **arguments** and those arguments create an **output**\n",
    "argument = parameter. \n",
    "\n",
    "We can ask information about a function by executing *?function* "
   ]
  },
  {
   "cell_type": "code",
   "execution_count": 9,
   "id": "47ff6851-2fd1-41b7-af23-7acfc08df086",
   "metadata": {
    "tags": []
   },
   "outputs": [
    {
     "data": {
      "text/plain": [
       "\u001b[0;31mSignature:\u001b[0m \u001b[0mprint\u001b[0m\u001b[0;34m(\u001b[0m\u001b[0;34m*\u001b[0m\u001b[0margs\u001b[0m\u001b[0;34m,\u001b[0m \u001b[0msep\u001b[0m\u001b[0;34m=\u001b[0m\u001b[0;34m' '\u001b[0m\u001b[0;34m,\u001b[0m \u001b[0mend\u001b[0m\u001b[0;34m=\u001b[0m\u001b[0;34m'\\n'\u001b[0m\u001b[0;34m,\u001b[0m \u001b[0mfile\u001b[0m\u001b[0;34m=\u001b[0m\u001b[0;32mNone\u001b[0m\u001b[0;34m,\u001b[0m \u001b[0mflush\u001b[0m\u001b[0;34m=\u001b[0m\u001b[0;32mFalse\u001b[0m\u001b[0;34m)\u001b[0m\u001b[0;34m\u001b[0m\u001b[0;34m\u001b[0m\u001b[0m\n",
       "\u001b[0;31mDocstring:\u001b[0m\n",
       "Prints the values to a stream, or to sys.stdout by default.\n",
       "\n",
       "sep\n",
       "  string inserted between values, default a space.\n",
       "end\n",
       "  string appended after the last value, default a newline.\n",
       "file\n",
       "  a file-like object (stream); defaults to the current sys.stdout.\n",
       "flush\n",
       "  whether to forcibly flush the stream.\n",
       "\u001b[0;31mType:\u001b[0m      builtin_function_or_method"
      ]
     },
     "metadata": {},
     "output_type": "display_data"
    }
   ],
   "source": [
    "?print"
   ]
  },
  {
   "cell_type": "markdown",
   "id": "530187ba-d5de-4b68-b2de-24162c1a2e38",
   "metadata": {},
   "source": [
    "This information (listed above) is a **docstring**\n",
    "\n",
    "A function has two types of arguments:\n",
    "\n",
    "- **non-optional argument**: arguments *you* need to specify for the function to do something \n",
    "\n",
    "- **optional argument** arguments that are pre-filled with a default value by the funciton. You can override them. Optional arguments appear inside the parenthesis in th eform 'optional argument=defualt_value'"
   ]
  },
  {
   "cell_type": "code",
   "execution_count": 10,
   "id": "cca0e7ce-54c4-41b2-a40d-a1c5c4140317",
   "metadata": {
    "tags": []
   },
   "outputs": [
    {
     "name": "stdout",
     "output_type": "stream",
     "text": [
      "changing the default end argument :)"
     ]
    }
   ],
   "source": [
    "print('changing the default end argument', end= ' :)')"
   ]
  },
  {
   "cell_type": "markdown",
   "id": "5236a5ec-928a-411e-b545-9a54f76a9e85",
   "metadata": {},
   "source": [
    "### Attributes and Methods\n",
    "\n",
    "An object in Python has atrributes and methods. \n",
    "\n",
    "- **attribute**: a property of an object, some piece of information about it\n",
    "- **method**: a procedure associated with the object, an action \n",
    "\n",
    "Fish attributes:\n",
    "-length, color, species, \n",
    "\n",
    "Fish methods:\n",
    "die(), bite(), swim()\n",
    "\n",
    "**Example**\n",
    "Attributes for 'numpy.arrays'\n",
    "\n",
    "We can access a variable's attributes and methods by adding a period '.' at the end of the variable's name.\n",
    "\n",
    "*'variable.method'* or *'variable.attribute'*"
   ]
  },
  {
   "cell_type": "code",
   "execution_count": 11,
   "id": "4bcc98a1-6628-4bd4-800c-c0affe3ce17a",
   "metadata": {
    "tags": []
   },
   "outputs": [
    {
     "data": {
      "text/plain": [
       "(2, 3)"
      ]
     },
     "execution_count": 11,
     "metadata": {},
     "output_type": "execute_result"
    }
   ],
   "source": [
    "a.shape"
   ]
  },
  {
   "cell_type": "code",
   "execution_count": 12,
   "id": "b4adde5c-04cb-4c87-a1f6-f6b765600ee2",
   "metadata": {
    "tags": []
   },
   "outputs": [
    {
     "data": {
      "text/plain": [
       "tuple"
      ]
     },
     "execution_count": 12,
     "metadata": {},
     "output_type": "execute_result"
    }
   ],
   "source": [
    "type(a.shape)"
   ]
  },
  {
   "cell_type": "code",
   "execution_count": 13,
   "id": "f28b5c6b-26bd-4b0f-8cb4-056904e18172",
   "metadata": {
    "tags": []
   },
   "outputs": [
    {
     "data": {
      "text/plain": [
       "array([1, 1, 2])"
      ]
     },
     "execution_count": 13,
     "metadata": {},
     "output_type": "execute_result"
    }
   ],
   "source": [
    "#Methods examples\n",
    "# min() returs the minimum value along a specified axis\n",
    "a.min(axis=0)"
   ]
  },
  {
   "cell_type": "markdown",
   "id": "bfa256d4-de2d-403a-80a6-890b1de3e9d6",
   "metadata": {},
   "source": [
    "## Check-In\n",
    "We can also call the **min** method without any parameters"
   ]
  },
  {
   "cell_type": "code",
   "execution_count": 14,
   "id": "ef04b95f-6595-4eb0-954d-4745df604366",
   "metadata": {
    "tags": []
   },
   "outputs": [
    {
     "data": {
      "text/plain": [
       "1"
      ]
     },
     "execution_count": 14,
     "metadata": {},
     "output_type": "execute_result"
    }
   ],
   "source": [
    "a.min()"
   ]
  },
  {
   "cell_type": "markdown",
   "id": "c481fc80-564c-4b9f-ae4e-22379b3aa19b",
   "metadata": {},
   "source": [
    "Remember: methods are function associated with an object. "
   ]
  },
  {
   "cell_type": "code",
   "execution_count": 15,
   "id": "bf0be467-c617-4d09-9ce1-ec209307b176",
   "metadata": {
    "tags": []
   },
   "outputs": [
    {
     "data": {
      "text/plain": [
       "builtin_function_or_method"
      ]
     },
     "execution_count": 15,
     "metadata": {},
     "output_type": "execute_result"
    }
   ],
   "source": [
    "type(a.min)"
   ]
  },
  {
   "cell_type": "markdown",
   "id": "a7431676-51d0-4306-a047-b46f2284d6f2",
   "metadata": {},
   "source": [
    "### Exercise\n",
    "\n",
    "1. Read teh 'print' function help. What is the **type** of the argument 'sep'? Is this an optional or non-optional argument? Why? \n",
    "builtin_function_or_method, optional (because it has a default reading), its a string (it says so, and has quotes)\n",
    "\n",
    "2. Create two new variables, one with the interger value 77 and another one with the string 99. \n",
    "x = 77\n",
    "y = '99'\n",
    "\n",
    "3. Use your variables to print '77%99%77' by changing the value of one of hte optional arguments in 'print'\n",
    "print('x,y,x' sep='%')"
   ]
  },
  {
   "cell_type": "code",
   "execution_count": 28,
   "id": "4f26eb93-bc95-4056-aefa-d94c72428345",
   "metadata": {
    "tags": []
   },
   "outputs": [
    {
     "name": "stdout",
     "output_type": "stream",
     "text": [
      "77%99%77\n"
     ]
    }
   ],
   "source": [
    "x = 77\n",
    "y = '99'\n",
    "print(x,y,x, sep='%')"
   ]
  },
  {
   "cell_type": "code",
   "execution_count": 22,
   "id": "fd2ccd1e-8219-4723-be90-7d6184518c19",
   "metadata": {
    "tags": []
   },
   "outputs": [
    {
     "data": {
      "text/plain": [
       "\u001b[0;31mSignature:\u001b[0m \u001b[0mprint\u001b[0m\u001b[0;34m(\u001b[0m\u001b[0;34m*\u001b[0m\u001b[0margs\u001b[0m\u001b[0;34m,\u001b[0m \u001b[0msep\u001b[0m\u001b[0;34m=\u001b[0m\u001b[0;34m' '\u001b[0m\u001b[0;34m,\u001b[0m \u001b[0mend\u001b[0m\u001b[0;34m=\u001b[0m\u001b[0;34m'\\n'\u001b[0m\u001b[0;34m,\u001b[0m \u001b[0mfile\u001b[0m\u001b[0;34m=\u001b[0m\u001b[0;32mNone\u001b[0m\u001b[0;34m,\u001b[0m \u001b[0mflush\u001b[0m\u001b[0;34m=\u001b[0m\u001b[0;32mFalse\u001b[0m\u001b[0;34m)\u001b[0m\u001b[0;34m\u001b[0m\u001b[0;34m\u001b[0m\u001b[0m\n",
       "\u001b[0;31mDocstring:\u001b[0m\n",
       "Prints the values to a stream, or to sys.stdout by default.\n",
       "\n",
       "sep\n",
       "  string inserted between values, default a space.\n",
       "end\n",
       "  string appended after the last value, default a newline.\n",
       "file\n",
       "  a file-like object (stream); defaults to the current sys.stdout.\n",
       "flush\n",
       "  whether to forcibly flush the stream.\n",
       "\u001b[0;31mType:\u001b[0m      builtin_function_or_method"
      ]
     },
     "metadata": {},
     "output_type": "display_data"
    }
   ],
   "source": [
    "?print"
   ]
  }
 ],
 "metadata": {
  "kernelspec": {
   "display_name": "EDS220",
   "language": "python",
   "name": "eds220-env"
  },
  "language_info": {
   "codemirror_mode": {
    "name": "ipython",
    "version": 3
   },
   "file_extension": ".py",
   "mimetype": "text/x-python",
   "name": "python",
   "nbconvert_exporter": "python",
   "pygments_lexer": "ipython3",
   "version": "3.11.4"
  }
 },
 "nbformat": 4,
 "nbformat_minor": 5
}
