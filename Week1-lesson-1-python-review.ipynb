{
 "cells": [
  {
   "cell_type": "markdown",
   "id": "c436525f-387b-409d-9b25-7e68c77cdc18",
   "metadata": {},
   "source": [
    "## Python Reviewwwwww\n",
    "\n",
    "Goals: \n",
    "- recall basic Pytohon vocab\n",
    "- practice markdown\n",
    "\n",
    "#### Libarries and packages\n",
    "**Library** a scollection of code that we can use to perofm specific tasks in our porgrams. \n",
    "\n",
    "**NumPy**\n",
    "- core library for numerical computing in python \n",
    "- many other libarire use NumPy arrays as building blocks\n",
    "- computations on NumPy are optiomozied for speed and memory usage\n",
    "\n",
    "Lets import NumPy with Stadnard abreviations"
   ]
  },
  {
   "cell_type": "code",
   "execution_count": 2,
   "id": "02aae00a-5dfb-4253-aea2-36db0d081920",
   "metadata": {
    "tags": []
   },
   "outputs": [],
   "source": [
    "import numpy as np"
   ]
  },
  {
   "cell_type": "markdown",
   "id": "db502468-0880-46b6-a6e1-f6667d945f6d",
   "metadata": {},
   "source": [
    "## Variables \n",
    "\n",
    "**variables**: a name we assign to a particular object in Python \n",
    "\n",
    "Example: "
   ]
  },
  {
   "cell_type": "code",
   "execution_count": 3,
   "id": "8e209313-a887-41f0-95c6-1bd9bbe07645",
   "metadata": {
    "tags": []
   },
   "outputs": [],
   "source": [
    "# Assign a small array to a variable a \n",
    "a = np.array([[1,1,2],[3,5,8]])"
   ]
  },
  {
   "cell_type": "code",
   "execution_count": 4,
   "id": "9f622dfc-a48f-42c3-b9b9-82648214f7bb",
   "metadata": {
    "tags": []
   },
   "outputs": [
    {
     "data": {
      "text/plain": [
       "array([[1, 1, 2],\n",
       "       [3, 5, 8]])"
      ]
     },
     "execution_count": 4,
     "metadata": {},
     "output_type": "execute_result"
    }
   ],
   "source": [
    "#run cell with the variable name to show the value\n",
    "a"
   ]
  },
  {
   "cell_type": "code",
   "execution_count": 6,
   "id": "cd6d2ff8-d0fa-497b-a650-ac1170fd0a66",
   "metadata": {
    "tags": []
   },
   "outputs": [
    {
     "name": "stdout",
     "output_type": "stream",
     "text": [
      "[[1 1 2]\n",
      " [3 5 8]]\n"
     ]
    }
   ],
   "source": [
    "# Use 'print' function ot print the value \n",
    "print(a)"
   ]
  },
  {
   "cell_type": "markdown",
   "id": "3f784310-97b6-4cf4-a37b-a20a65c74248",
   "metadata": {},
   "source": [
    "### Objects\n",
    "**object** (inofrmatlly speaking) is a bundle of *properites* and *actions* about sometihing speicifc.\n",
    "\n",
    "Example:\n",
    "\n",
    "Object: data frame \n",
    "\n",
    "Preperties: number rows, names of the columns, date created\n",
    "\n",
    "Actions: selecting a specific row, adding a new column\n",
    "\n",
    "A variable is the name w e give a specific object, and the same object can be reference by different variables. \n",
    "\n",
    "In practice, we can often use vairable and object interchangeably. "
   ]
  }
 ],
 "metadata": {
  "kernelspec": {
   "display_name": "EDS220",
   "language": "python",
   "name": "eds220-env"
  },
  "language_info": {
   "codemirror_mode": {
    "name": "ipython",
    "version": 3
   },
   "file_extension": ".py",
   "mimetype": "text/x-python",
   "name": "python",
   "nbconvert_exporter": "python",
   "pygments_lexer": "ipython3",
   "version": "3.11.4"
  }
 },
 "nbformat": 4,
 "nbformat_minor": 5
}
