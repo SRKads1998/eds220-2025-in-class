{
 "cells": [
  {
   "cell_type": "code",
   "execution_count": null,
   "id": "a5d0d761",
   "metadata": {},
   "outputs": [],
   "source": []
  },
  {
   "cell_type": "markdown",
   "id": "6355f4ab",
   "metadata": {},
   "source": [
    "## Section 1\n",
    "A.\n",
    "i. This data is about snowhairs in Alaska, specifically on population survival during fluctations \n",
    "ii. 1999-2002\n",
    "iii. National Science Foundation?\n",
    "iv.  National Science Foundation?\n",
    "\n",
    "B. "
   ]
  },
  {
   "cell_type": "markdown",
   "id": "ee77b684",
   "metadata": {},
   "source": [
    "B. \n",
    "The dataset includes information collected from field observations between 1999 and 2002 on Snowshoe hair rabbits. \n",
    "\n",
    "Citation: Kielland, K., F.S. Chapin, R.W. Ruess, and Bonanza Creek LTER. 2017. Snowshoe hare physical data in Bonanza Creek Experimental Forest: 1999-Present ver 22. Environmental Data Initiative. https://doi.org/10.6073/pasta/03dce4856d79b91557d8e6ce2cbcdc14 (Accessed 2025-10-17).\n",
    "Link:https://portal.edirepository.org/nis/mapbrowse?packageid=knb-lter-bnz.55.22"
   ]
  },
  {
   "cell_type": "markdown",
   "id": "66ae4b10",
   "metadata": {},
   "source": [
    "C. "
   ]
  }
 ],
 "metadata": {
  "language_info": {
   "name": "python"
  }
 },
 "nbformat": 4,
 "nbformat_minor": 5
}
